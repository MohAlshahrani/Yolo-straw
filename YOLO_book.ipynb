{
 "cells": [
  {
   "cell_type": "code",
   "execution_count": null,
   "metadata": {},
   "outputs": [],
   "source": [
    "%pip install tensorboard"
   ]
  },
  {
   "cell_type": "code",
   "execution_count": 7,
   "metadata": {},
   "outputs": [],
   "source": [
    "import torch\n",
    "from IPython.display  import Image  # for displaying images\n",
    "import os \n",
    "import random\n",
    "import shutil\n",
    "from sklearn.model_selection import train_test_split\n",
    "import xml.etree.ElementTree as ET\n",
    "from xml.dom import minidom\n",
    "from tqdm import tqdm\n",
    "from PIL import Image, ImageDraw\n",
    "import numpy as np\n",
    "import matplotlib.pyplot as plt\n",
    "import tensorboard\n",
    "\n",
    "random.seed(108)"
   ]
  },
  {
   "cell_type": "code",
   "execution_count": 8,
   "metadata": {},
   "outputs": [
    {
     "name": "stdout",
     "output_type": "stream",
     "text": [
      "/Users/mohammed/VS_CODE/Yolo-straw\n"
     ]
    }
   ],
   "source": [
    "!pwd"
   ]
  },
  {
   "cell_type": "code",
   "execution_count": 11,
   "metadata": {},
   "outputs": [
    {
     "name": "stdout",
     "output_type": "stream",
     "text": [
      "240\n",
      "240\n"
     ]
    }
   ],
   "source": [
    "# Read images and annotations\n",
    "images = [os.path.join('images', x) for x in os.listdir('images')]\n",
    "annotations = [os.path.join('annotations', x) for x in os.listdir('annotations') if x[-3:] == \"txt\"]\n",
    "print(len(images))\n",
    "print(len(annotations))\n",
    "images.sort()\n",
    "annotations.sort()\n",
    "\n",
    "\n",
    "\n",
    "# Split the dataset into train-valid-test splits \n",
    "train_images, val_images, train_annotations, val_annotations = train_test_split(images, annotations, test_size = 0.2, random_state = 1)\n",
    "val_images, test_images, val_annotations, test_annotations = train_test_split(val_images, val_annotations, test_size = 0.5, random_state = 1)"
   ]
  },
  {
   "cell_type": "code",
   "execution_count": 12,
   "metadata": {},
   "outputs": [],
   "source": [
    "!mkdir images/train images/val images/test annotations/train annotations/val annotations/test"
   ]
  },
  {
   "cell_type": "code",
   "execution_count": 13,
   "metadata": {},
   "outputs": [],
   "source": [
    "#Utility function to move images \n",
    "def move_files_to_folder(list_of_files, destination_folder):\n",
    "    for f in list_of_files:\n",
    "        try:\n",
    "            shutil.move(f, destination_folder)\n",
    "        except:\n",
    "            print(f)\n",
    "            assert False\n",
    "\n",
    "# Move the splits into their folders\n",
    "move_files_to_folder(train_images, 'images/train')\n",
    "move_files_to_folder(val_images, 'images/val/')\n",
    "move_files_to_folder(test_images, 'images/test/')\n",
    "move_files_to_folder(train_annotations, 'annotations/train/')\n",
    "move_files_to_folder(val_annotations, 'annotations/val/')\n",
    "move_files_to_folder(test_annotations, 'annotations/test/')"
   ]
  },
  {
   "cell_type": "code",
   "execution_count": 14,
   "metadata": {},
   "outputs": [],
   "source": [
    "!mv annotations labels"
   ]
  },
  {
   "cell_type": "code",
   "execution_count": 9,
   "metadata": {},
   "outputs": [
    {
     "name": "stdout",
     "output_type": "stream",
     "text": [
      "Requirement already satisfied: tensorboard in /Users/mohammed/opt/anaconda3/lib/python3.10/site-packages (2.12.0)\n",
      "Requirement already satisfied: google-auth<3,>=1.6.3 in /Users/mohammed/opt/anaconda3/lib/python3.10/site-packages (from tensorboard) (2.16.1)\n",
      "Requirement already satisfied: protobuf>=3.19.6 in /Users/mohammed/opt/anaconda3/lib/python3.10/site-packages (from tensorboard) (4.22.0)\n",
      "Requirement already satisfied: tensorboard-data-server<0.8.0,>=0.7.0 in /Users/mohammed/opt/anaconda3/lib/python3.10/site-packages (from tensorboard) (0.7.0)\n",
      "Requirement already satisfied: setuptools>=41.0.0 in /Users/mohammed/opt/anaconda3/lib/python3.10/site-packages (from tensorboard) (65.6.3)\n",
      "Requirement already satisfied: werkzeug>=1.0.1 in /Users/mohammed/opt/anaconda3/lib/python3.10/site-packages (from tensorboard) (2.2.3)\n",
      "Requirement already satisfied: requests<3,>=2.21.0 in /Users/mohammed/opt/anaconda3/lib/python3.10/site-packages (from tensorboard) (2.28.1)\n",
      "Requirement already satisfied: wheel>=0.26 in /Users/mohammed/opt/anaconda3/lib/python3.10/site-packages (from tensorboard) (0.38.4)\n",
      "Requirement already satisfied: markdown>=2.6.8 in /Users/mohammed/opt/anaconda3/lib/python3.10/site-packages (from tensorboard) (3.4.1)\n",
      "Requirement already satisfied: grpcio>=1.48.2 in /Users/mohammed/opt/anaconda3/lib/python3.10/site-packages (from tensorboard) (1.51.3)\n",
      "Requirement already satisfied: absl-py>=0.4 in /Users/mohammed/opt/anaconda3/lib/python3.10/site-packages (from tensorboard) (1.4.0)\n",
      "Requirement already satisfied: tensorboard-plugin-wit>=1.6.0 in /Users/mohammed/opt/anaconda3/lib/python3.10/site-packages (from tensorboard) (1.8.1)\n",
      "Requirement already satisfied: numpy>=1.12.0 in /Users/mohammed/opt/anaconda3/lib/python3.10/site-packages (from tensorboard) (1.24.2)\n",
      "Requirement already satisfied: google-auth-oauthlib<0.5,>=0.4.1 in /Users/mohammed/opt/anaconda3/lib/python3.10/site-packages (from tensorboard) (0.4.6)\n",
      "Requirement already satisfied: cachetools<6.0,>=2.0.0 in /Users/mohammed/opt/anaconda3/lib/python3.10/site-packages (from google-auth<3,>=1.6.3->tensorboard) (5.3.0)\n",
      "Requirement already satisfied: rsa<5,>=3.1.4 in /Users/mohammed/opt/anaconda3/lib/python3.10/site-packages (from google-auth<3,>=1.6.3->tensorboard) (4.9)\n",
      "Requirement already satisfied: pyasn1-modules>=0.2.1 in /Users/mohammed/opt/anaconda3/lib/python3.10/site-packages (from google-auth<3,>=1.6.3->tensorboard) (0.2.8)\n",
      "Requirement already satisfied: six>=1.9.0 in /Users/mohammed/opt/anaconda3/lib/python3.10/site-packages (from google-auth<3,>=1.6.3->tensorboard) (1.16.0)\n",
      "Requirement already satisfied: requests-oauthlib>=0.7.0 in /Users/mohammed/opt/anaconda3/lib/python3.10/site-packages (from google-auth-oauthlib<0.5,>=0.4.1->tensorboard) (1.3.1)\n",
      "Requirement already satisfied: idna<4,>=2.5 in /Users/mohammed/opt/anaconda3/lib/python3.10/site-packages (from requests<3,>=2.21.0->tensorboard) (3.4)\n",
      "Requirement already satisfied: charset-normalizer<3,>=2 in /Users/mohammed/opt/anaconda3/lib/python3.10/site-packages (from requests<3,>=2.21.0->tensorboard) (2.0.4)\n",
      "Requirement already satisfied: urllib3<1.27,>=1.21.1 in /Users/mohammed/opt/anaconda3/lib/python3.10/site-packages (from requests<3,>=2.21.0->tensorboard) (1.26.14)\n",
      "Requirement already satisfied: certifi>=2017.4.17 in /Users/mohammed/opt/anaconda3/lib/python3.10/site-packages (from requests<3,>=2.21.0->tensorboard) (2022.12.7)\n",
      "Requirement already satisfied: MarkupSafe>=2.1.1 in /Users/mohammed/opt/anaconda3/lib/python3.10/site-packages (from werkzeug>=1.0.1->tensorboard) (2.1.1)\n",
      "Requirement already satisfied: pyasn1<0.5.0,>=0.4.6 in /Users/mohammed/opt/anaconda3/lib/python3.10/site-packages (from pyasn1-modules>=0.2.1->google-auth<3,>=1.6.3->tensorboard) (0.4.8)\n",
      "Requirement already satisfied: oauthlib>=3.0.0 in /Users/mohammed/opt/anaconda3/lib/python3.10/site-packages (from requests-oauthlib>=0.7.0->google-auth-oauthlib<0.5,>=0.4.1->tensorboard) (3.2.2)\n",
      "Note: you may need to restart the kernel to use updated packages.\n"
     ]
    }
   ],
   "source": []
  },
  {
   "cell_type": "code",
   "execution_count": 17,
   "metadata": {},
   "outputs": [
    {
     "name": "stdout",
     "output_type": "stream",
     "text": [
      "Traceback (most recent call last):\n",
      "  File \"/Users/mohammed/opt/anaconda3/envs/yolov5/lib/python3.10/site-packages/requests/compat.py\", line 11, in <module>\n",
      "    import chardet\n",
      "ModuleNotFoundError: No module named 'chardet'\n",
      "\n",
      "During handling of the above exception, another exception occurred:\n",
      "\n",
      "Traceback (most recent call last):\n",
      "  File \"/Users/mohammed/VS_CODE/Yolo-straw/train.py\", line 43, in <module>\n",
      "    import val as validate  # for end-of-epoch mAP\n",
      "  File \"/Users/mohammed/VS_CODE/Yolo-straw/val.py\", line 39, in <module>\n",
      "    from models.common import DetectMultiBackend\n",
      "  File \"/Users/mohammed/VS_CODE/Yolo-straw/models/common.py\", line 21, in <module>\n",
      "    import requests\n",
      "  File \"/Users/mohammed/opt/anaconda3/envs/yolov5/lib/python3.10/site-packages/requests/__init__.py\", line 45, in <module>\n",
      "    from .exceptions import RequestsDependencyWarning\n",
      "  File \"/Users/mohammed/opt/anaconda3/envs/yolov5/lib/python3.10/site-packages/requests/exceptions.py\", line 9, in <module>\n",
      "    from .compat import JSONDecodeError as CompatJSONDecodeError\n",
      "  File \"/Users/mohammed/opt/anaconda3/envs/yolov5/lib/python3.10/site-packages/requests/compat.py\", line 13, in <module>\n",
      "    import charset_normalizer as chardet\n",
      "  File \"/Users/mohammed/opt/anaconda3/envs/yolov5/lib/python3.10/site-packages/charset_normalizer/__init__.py\", line 23, in <module>\n",
      "    from charset_normalizer.api import from_fp, from_path, from_bytes, normalize\n",
      "  File \"/Users/mohammed/opt/anaconda3/envs/yolov5/lib/python3.10/site-packages/charset_normalizer/api.py\", line 10, in <module>\n",
      "    from charset_normalizer.md import mess_ratio\n",
      "  File \"charset_normalizer/md.py\", line 5, in <module>\n",
      "ImportError: cannot import name 'COMMON_SAFE_ASCII_CHARACTERS' from 'charset_normalizer.constant' (/Users/mohammed/opt/anaconda3/envs/yolov5/lib/python3.10/site-packages/charset_normalizer/constant.py)\n"
     ]
    }
   ],
   "source": [
    "#!$ python train.py --data straw.yaml --weights '' --cfg yolov5s.yaml --img 640\n",
    "!python train.py --data straw.yaml --weights '' --img 320 --cfg yolov5s.yaml --batch 32 --epochs 30 "
   ]
  },
  {
   "cell_type": "code",
   "execution_count": null,
   "metadata": {},
   "outputs": [],
   "source": []
  }
 ],
 "metadata": {
  "kernelspec": {
   "display_name": "yolov5",
   "language": "python",
   "name": "python3"
  },
  "language_info": {
   "codemirror_mode": {
    "name": "ipython",
    "version": 3
   },
   "file_extension": ".py",
   "mimetype": "text/x-python",
   "name": "python",
   "nbconvert_exporter": "python",
   "pygments_lexer": "ipython3",
   "version": "3.10.9"
  },
  "orig_nbformat": 4,
  "vscode": {
   "interpreter": {
    "hash": "ea7ba173623ab6185c6287a4b47df588cd782a7bf1ab8fb553c6263c8089c196"
   }
  }
 },
 "nbformat": 4,
 "nbformat_minor": 2
}
